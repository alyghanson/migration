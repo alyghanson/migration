{
 "cells": [
  {
   "cell_type": "code",
   "execution_count": 1,
   "id": "bca5d5d4-e444-4087-b0d4-9560126b0ee0",
   "metadata": {},
   "outputs": [],
   "source": [
    "import numpy as np\n",
    "import pandas as pd\n",
    "import seaborn as sns"
   ]
  },
  {
   "cell_type": "code",
   "execution_count": 2,
   "id": "338b18e6-b3dd-4e39-9b1c-b23149e183bf",
   "metadata": {},
   "outputs": [],
   "source": [
    "whales = pd.read_csv('data/whales.csv')\n",
    "#select only cols we want\n",
    "whales = whales[['timestamp', 'location-long', 'location-lat', 'individual-local-identifier']]\n",
    "#rename them for ease of use\n",
    "whales = whales.rename(columns={'timestamp': 'time', 'location-long': 'long', 'location-lat': 'lat', 'individual-local-identifier': 'id'})"
   ]
  },
  {
   "cell_type": "code",
   "execution_count": 3,
   "id": "115907f5-ae68-424d-92c1-7b56d99470c1",
   "metadata": {},
   "outputs": [
    {
     "data": {
      "text/html": [
       "<div>\n",
       "<style scoped>\n",
       "    .dataframe tbody tr th:only-of-type {\n",
       "        vertical-align: middle;\n",
       "    }\n",
       "\n",
       "    .dataframe tbody tr th {\n",
       "        vertical-align: top;\n",
       "    }\n",
       "\n",
       "    .dataframe thead th {\n",
       "        text-align: right;\n",
       "    }\n",
       "</style>\n",
       "<table border=\"1\" class=\"dataframe\">\n",
       "  <thead>\n",
       "    <tr style=\"text-align: right;\">\n",
       "      <th></th>\n",
       "      <th>time</th>\n",
       "      <th>long</th>\n",
       "      <th>lat</th>\n",
       "      <th>id</th>\n",
       "    </tr>\n",
       "  </thead>\n",
       "  <tbody>\n",
       "    <tr>\n",
       "      <th>0</th>\n",
       "      <td>1993-08-29 01:13:00.000</td>\n",
       "      <td>-122.433</td>\n",
       "      <td>37.058</td>\n",
       "      <td>1993CA-Bmu-00834</td>\n",
       "    </tr>\n",
       "    <tr>\n",
       "      <th>1</th>\n",
       "      <td>1993-08-28 18:20:00.000</td>\n",
       "      <td>-122.412</td>\n",
       "      <td>37.012</td>\n",
       "      <td>1993CA-Bmu-10823</td>\n",
       "    </tr>\n",
       "    <tr>\n",
       "      <th>2</th>\n",
       "      <td>1993-08-28 18:54:00.000</td>\n",
       "      <td>-122.415</td>\n",
       "      <td>37.022</td>\n",
       "      <td>1993CA-Bmu-10833</td>\n",
       "    </tr>\n",
       "    <tr>\n",
       "      <th>3</th>\n",
       "      <td>1993-08-31 23:40:00.000</td>\n",
       "      <td>-122.773</td>\n",
       "      <td>37.198</td>\n",
       "      <td>1993CA-Bmu-10836</td>\n",
       "    </tr>\n",
       "    <tr>\n",
       "      <th>4</th>\n",
       "      <td>1994-09-13 21:28:00.000</td>\n",
       "      <td>-123.102</td>\n",
       "      <td>37.687</td>\n",
       "      <td>1994CA-Bmu-10820</td>\n",
       "    </tr>\n",
       "  </tbody>\n",
       "</table>\n",
       "</div>"
      ],
      "text/plain": [
       "                      time     long     lat                id\n",
       "0  1993-08-29 01:13:00.000 -122.433  37.058  1993CA-Bmu-00834\n",
       "1  1993-08-28 18:20:00.000 -122.412  37.012  1993CA-Bmu-10823\n",
       "2  1993-08-28 18:54:00.000 -122.415  37.022  1993CA-Bmu-10833\n",
       "3  1993-08-31 23:40:00.000 -122.773  37.198  1993CA-Bmu-10836\n",
       "4  1994-09-13 21:28:00.000 -123.102  37.687  1994CA-Bmu-10820"
      ]
     },
     "execution_count": 3,
     "metadata": {},
     "output_type": "execute_result"
    }
   ],
   "source": [
    "#inspect\n",
    "whales.head()"
   ]
  },
  {
   "cell_type": "code",
   "execution_count": 4,
   "id": "3ebd5647-bee6-434c-a836-7b6cf9effdab",
   "metadata": {},
   "outputs": [
    {
     "data": {
      "text/plain": [
       "time    0\n",
       "long    0\n",
       "lat     0\n",
       "id      0\n",
       "dtype: int64"
      ]
     },
     "execution_count": 4,
     "metadata": {},
     "output_type": "execute_result"
    }
   ],
   "source": [
    "whales.isna().sum()"
   ]
  },
  {
   "cell_type": "code",
   "execution_count": 5,
   "id": "2721c525-5d5f-44f3-98e2-94a5e9d15220",
   "metadata": {},
   "outputs": [
    {
     "data": {
      "text/plain": [
       "time     object\n",
       "long    float64\n",
       "lat     float64\n",
       "id       object\n",
       "dtype: object"
      ]
     },
     "execution_count": 5,
     "metadata": {},
     "output_type": "execute_result"
    }
   ],
   "source": [
    "whales.dtypes"
   ]
  },
  {
   "cell_type": "code",
   "execution_count": 6,
   "id": "99a19cf7-b4f0-4666-9d71-ada7c6fb7e58",
   "metadata": {},
   "outputs": [],
   "source": [
    "#Turn time into datetime:"
   ]
  },
  {
   "cell_type": "code",
   "execution_count": 7,
   "id": "e4d19c47-9b11-4557-b649-2de41597bdbf",
   "metadata": {},
   "outputs": [],
   "source": [
    "whales['time'] = pd.to_datetime(whales['time'])"
   ]
  },
  {
   "cell_type": "code",
   "execution_count": 8,
   "id": "cfba34da-dc0a-487f-a7cf-248650bb059c",
   "metadata": {},
   "outputs": [],
   "source": [
    "year = 1998"
   ]
  },
  {
   "cell_type": "code",
   "execution_count": 9,
   "id": "b3fce2c3-c28d-4c28-b28d-67b5d0cd5026",
   "metadata": {},
   "outputs": [],
   "source": [
    "w_year = whales[whales['time'].dt.year == year]\n",
    "\n",
    "w_1999 = whales[whales['time'].dt.year == 1999]\n",
    "\n",
    "w_2008 = whales[whales['time'].dt.year == 2008]"
   ]
  },
  {
   "cell_type": "code",
   "execution_count": 10,
   "id": "859f0405-23a1-42a2-a97e-f646c26973ef",
   "metadata": {},
   "outputs": [],
   "source": [
    "min_year_date = np.min(w_year['time'])\n",
    "max_year_date = np.max(w_year['time'])"
   ]
  },
  {
   "cell_type": "code",
   "execution_count": 11,
   "id": "16045e1a-1568-4da4-baba-de74a58f5e1a",
   "metadata": {},
   "outputs": [],
   "source": [
    "min_1999_date = np.min(w_1999['time'])\n",
    "max_1999_date = np.max(w_1999['time'])"
   ]
  },
  {
   "cell_type": "code",
   "execution_count": 12,
   "id": "b983c71a-b4de-41e0-aef3-bf1d692abe56",
   "metadata": {},
   "outputs": [],
   "source": [
    "min_2008_date = np.min(w_2008['time'])\n",
    "max_2008_date = np.max(w_2008['time'])"
   ]
  },
  {
   "cell_type": "code",
   "execution_count": 13,
   "id": "7a7223c4-e189-4899-bfe0-71df9ca73cdc",
   "metadata": {},
   "outputs": [],
   "source": [
    "mins = [min_year_date, min_1999_date, min_2008_date]\n",
    "maxes = [max_year_date, max_1999_date, max_2008_date]"
   ]
  },
  {
   "cell_type": "code",
   "execution_count": 14,
   "id": "8f3b1745-91d9-4c34-b970-1e2b0d9ff3a0",
   "metadata": {},
   "outputs": [],
   "source": [
    "#Export the data\n",
    "times = pd.DataFrame({'year': [year, '1999', '2008'], 'min': mins,\n",
    "                   'max': maxes, '# data points': [len(w_year), len(w_1999), len(w_2008)]})\n",
    "times.to_csv('./exports/times.csv')  "
   ]
  },
  {
   "cell_type": "code",
   "execution_count": 15,
   "id": "ab7a0ea0-7a53-4ecb-a3cc-8b8eee79c10a",
   "metadata": {},
   "outputs": [
    {
     "data": {
      "text/html": [
       "<div>\n",
       "<style scoped>\n",
       "    .dataframe tbody tr th:only-of-type {\n",
       "        vertical-align: middle;\n",
       "    }\n",
       "\n",
       "    .dataframe tbody tr th {\n",
       "        vertical-align: top;\n",
       "    }\n",
       "\n",
       "    .dataframe thead th {\n",
       "        text-align: right;\n",
       "    }\n",
       "</style>\n",
       "<table border=\"1\" class=\"dataframe\">\n",
       "  <thead>\n",
       "    <tr style=\"text-align: right;\">\n",
       "      <th></th>\n",
       "      <th>year</th>\n",
       "      <th>min</th>\n",
       "      <th>max</th>\n",
       "      <th># data points</th>\n",
       "    </tr>\n",
       "  </thead>\n",
       "  <tbody>\n",
       "    <tr>\n",
       "      <th>0</th>\n",
       "      <td>1998</td>\n",
       "      <td>1998-08-12 21:04:00</td>\n",
       "      <td>1998-12-29 12:31:31</td>\n",
       "      <td>957</td>\n",
       "    </tr>\n",
       "    <tr>\n",
       "      <th>1</th>\n",
       "      <td>1999</td>\n",
       "      <td>1999-01-04 16:13:10</td>\n",
       "      <td>1999-12-31 21:52:20</td>\n",
       "      <td>1646</td>\n",
       "    </tr>\n",
       "    <tr>\n",
       "      <th>2</th>\n",
       "      <td>2008</td>\n",
       "      <td>2008-01-02 00:01:52</td>\n",
       "      <td>2008-12-30 13:01:13</td>\n",
       "      <td>3317</td>\n",
       "    </tr>\n",
       "  </tbody>\n",
       "</table>\n",
       "</div>"
      ],
      "text/plain": [
       "   year                 min                 max  # data points\n",
       "0  1998 1998-08-12 21:04:00 1998-12-29 12:31:31            957\n",
       "1  1999 1999-01-04 16:13:10 1999-12-31 21:52:20           1646\n",
       "2  2008 2008-01-02 00:01:52 2008-12-30 13:01:13           3317"
      ]
     },
     "execution_count": 15,
     "metadata": {},
     "output_type": "execute_result"
    }
   ],
   "source": [
    "times.head()"
   ]
  },
  {
   "cell_type": "code",
   "execution_count": null,
   "id": "5439c7eb-e367-40bc-a53d-957a269b02f3",
   "metadata": {},
   "outputs": [],
   "source": []
  }
 ],
 "metadata": {
  "kernelspec": {
   "display_name": "Python 3 (ipykernel)",
   "language": "python",
   "name": "python3"
  },
  "language_info": {
   "codemirror_mode": {
    "name": "ipython",
    "version": 3
   },
   "file_extension": ".py",
   "mimetype": "text/x-python",
   "name": "python",
   "nbconvert_exporter": "python",
   "pygments_lexer": "ipython3",
   "version": "3.9.13"
  }
 },
 "nbformat": 4,
 "nbformat_minor": 5
}
