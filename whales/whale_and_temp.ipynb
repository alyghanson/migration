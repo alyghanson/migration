{
 "cells": [
  {
   "cell_type": "code",
   "execution_count": 1,
   "id": "1091a8c3-8710-469a-92a9-98b596399eb5",
   "metadata": {},
   "outputs": [],
   "source": [
    "import numpy as np\n",
    "import rasterio\n",
    "import pandas as pd\n",
    "import matplotlib.pyplot as plt\n",
    "import xarray as xr\n",
    "import os\n",
    "from netCDF4 import Dataset as NetCDFFile \n",
    "import h5netcdf\n",
    "from mpl_toolkits.axes_grid1 import make_axes_locatable\n",
    "import rioxarray as rio\n",
    "import geopandas as gpd\n",
    "import seaborn as sns\n",
    "from mpl_toolkits.basemap import Basemap"
   ]
  },
  {
   "cell_type": "code",
   "execution_count": 2,
   "id": "c7f01fca-6520-45e6-a09f-ea330b2b8f6e",
   "metadata": {},
   "outputs": [
    {
     "ename": "OSError",
     "evalue": "[Errno -51] NetCDF: Unknown file format: '../Temperature/Output Deliverable/export_change.nc'",
     "output_type": "error",
     "traceback": [
      "\u001b[0;31m---------------------------------------------------------------------------\u001b[0m",
      "\u001b[0;31mOSError\u001b[0m                                   Traceback (most recent call last)",
      "Cell \u001b[0;32mIn[2], line 6\u001b[0m\n\u001b[1;32m      1\u001b[0m \u001b[38;5;66;03m#load in temp data\u001b[39;00m\n\u001b[1;32m      2\u001b[0m \u001b[38;5;66;03m# temp_1999 = xr.open_dataset(\"../Temperature/Output Deliverable/export_1999.nc\")\u001b[39;00m\n\u001b[1;32m      3\u001b[0m \u001b[38;5;66;03m# temp_2008 = xr.open_dataset(\"../Temperature/Output Deliverable/export_2008.nc\")\u001b[39;00m\n\u001b[1;32m      4\u001b[0m \u001b[38;5;66;03m# temp_change = xr.open_dataset(\"../Temperature/Output Deliverable/export_change.nc\")\u001b[39;00m\n\u001b[1;32m      5\u001b[0m \u001b[38;5;66;03m#load in netcdf file\u001b[39;00m\n\u001b[0;32m----> 6\u001b[0m change \u001b[38;5;241m=\u001b[39m \u001b[43mNetCDFFile\u001b[49m\u001b[43m(\u001b[49m\u001b[38;5;124;43m'\u001b[39;49m\u001b[38;5;124;43m../Temperature/Output Deliverable/export_change.nc\u001b[39;49m\u001b[38;5;124;43m'\u001b[39;49m\u001b[43m)\u001b[49m\n\u001b[1;32m      9\u001b[0m \u001b[38;5;66;03m#load in whale data\u001b[39;00m\n\u001b[1;32m     10\u001b[0m loc_1999 \u001b[38;5;241m=\u001b[39m pd\u001b[38;5;241m.\u001b[39mread_csv(\u001b[38;5;124m'\u001b[39m\u001b[38;5;124mexports/loc_1999.csv\u001b[39m\u001b[38;5;124m'\u001b[39m)\u001b[38;5;241m.\u001b[39mdrop(\u001b[38;5;124m'\u001b[39m\u001b[38;5;124mgeometry\u001b[39m\u001b[38;5;124m'\u001b[39m, axis\u001b[38;5;241m=\u001b[39m\u001b[38;5;241m1\u001b[39m)\n",
      "File \u001b[0;32msrc/netCDF4/_netCDF4.pyx:2469\u001b[0m, in \u001b[0;36mnetCDF4._netCDF4.Dataset.__init__\u001b[0;34m()\u001b[0m\n",
      "File \u001b[0;32msrc/netCDF4/_netCDF4.pyx:2028\u001b[0m, in \u001b[0;36mnetCDF4._netCDF4._ensure_nc_success\u001b[0;34m()\u001b[0m\n",
      "\u001b[0;31mOSError\u001b[0m: [Errno -51] NetCDF: Unknown file format: '../Temperature/Output Deliverable/export_change.nc'"
     ]
    }
   ],
   "source": [
    "#load in temp data\n",
    "# temp_1999 = xr.open_dataset(\"../Temperature/Output Deliverable/export_1999.nc\")\n",
    "# temp_2008 = xr.open_dataset(\"../Temperature/Output Deliverable/export_2008.nc\")\n",
    "# temp_change = xr.open_dataset(\"../Temperature/Output Deliverable/export_change.nc\")\n",
    "#load in netcdf file\n",
    "change = NetCDFFile('../Temperature/Output Deliverable/export_change.nc')\n",
    "\n",
    "\n",
    "#load in whale data\n",
    "loc_1999 = pd.read_csv('exports/loc_1999.csv').drop('geometry', axis=1)\n",
    "loc_2008 = pd.read_csv('exports/loc_2008.csv').drop('geometry', axis=1)\n",
    "#turn to gpd\n",
    "loc_1999 = gpd.GeoDataFrame(loc_1999, geometry=gpd.points_from_xy(x=loc_1999['long'], y=loc_1999['lat']))\n",
    "loc_2008 = gpd.GeoDataFrame(loc_2008, geometry=gpd.points_from_xy(x=loc_2008['long'], y=loc_2008['lat']))"
   ]
  },
  {
   "cell_type": "code",
   "execution_count": null,
   "id": "be8e8c3f-e6de-4bb6-a80d-6f61d978a1d7",
   "metadata": {},
   "outputs": [],
   "source": [
    "#read the variable in the netcdf file:\n",
    "lat = change.variables['lat'][:] # need it to be from -180 to 180 \n",
    "long = change.variables['lon'][:]\n",
    "sst = change.variables['change_percent'][:] #percent change in temerature from 1999 - 2008"
   ]
  },
  {
   "cell_type": "code",
   "execution_count": null,
   "id": "5d354adb-aaa9-47fc-923c-877cd023c257",
   "metadata": {},
   "outputs": [],
   "source": [
    "# Define the corners of the map\n",
    "llon = -165.662\n",
    "llat = 4.606\n",
    "ulon = -54.362\n",
    "ulat = 53.148\n",
    "\n",
    "# Create a Basemap object\n",
    "map = Basemap(projection='merc', llcrnrlon=llon, llcrnrlat=llat, urcrnrlon=ulon, urcrnrlat=ulat, resolution='f')\n",
    "\n",
    "# Draw map features\n",
    "map.drawcoastlines()\n",
    "map.drawcountries()\n",
    "map.drawlsmask(land_color='Linen', ocean_color='#CCFFFF')\n",
    "\n",
    "# Generate some sample data (replace this with your actual data)\n",
    "lons = long - 360\n",
    "lats = lat\n",
    "lons, lats = np.meshgrid(lons, lats)\n",
    "sst = sst  # Sample sea surface temperature data\n",
    "\n",
    "# Transform coordinates for plotting on the map\n",
    "x, y = map(lons, lats)\n",
    "\n",
    "# Plot the contour plot on the map\n",
    "temp = map.contourf(x, y, sst)\n",
    "\n",
    "# Generate some sample data points to overlay on the map\n",
    "data_lons = loc_2008.long\n",
    "data_lats = loc_2008.lat\n",
    "\n",
    "# Transform coordinates for plotting data points on the map\n",
    "data_x, data_y = map(data_lons, data_lats)\n",
    "\n",
    "# Plot the data points on the map\n",
    "map.plot(data_x, data_y, 'or', markersize=1)  # blue circles with size 5\n",
    "\n",
    "# Add a colorbar\n",
    "cb = map.colorbar(temp, location='bottom', size=\"5%\", pad=\"2%\")\n",
    "cb.set_label('Percent Change')\n",
    "\n",
    "plt.clabel(temp, fontsize=9, inline=1) # contour labels\n",
    "plt.title('Mean Sea Level Pressure')\n",
    "# Show the plot\n",
    "plt.show()\n",
    "plt.savefig('temp.png')\n"
   ]
  },
  {
   "cell_type": "code",
   "execution_count": null,
   "id": "a526cfc3-c72b-4314-8a21-9a935973fe3e",
   "metadata": {},
   "outputs": [],
   "source": [
    "sst"
   ]
  },
  {
   "cell_type": "code",
   "execution_count": null,
   "id": "7efb2229-4bc8-44d9-a679-4ae71dd9ba03",
   "metadata": {},
   "outputs": [],
   "source": []
  }
 ],
 "metadata": {
  "kernelspec": {
   "display_name": "Python 3 (ipykernel)",
   "language": "python",
   "name": "python3"
  },
  "language_info": {
   "codemirror_mode": {
    "name": "ipython",
    "version": 3
   },
   "file_extension": ".py",
   "mimetype": "text/x-python",
   "name": "python",
   "nbconvert_exporter": "python",
   "pygments_lexer": "ipython3",
   "version": "3.9.13"
  }
 },
 "nbformat": 4,
 "nbformat_minor": 5
}
