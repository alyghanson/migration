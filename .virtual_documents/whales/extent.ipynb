


import numpy as np
import pandas as pd
import seaborn as sns
import matplotlib.pyplot as plt
import geopandas as gpd


#Read in whales data
whale_df = pd.read_csv("data/whales.csv")
#Turn Date into datetime:
whale_df['timestamp'] = pd.to_datetime(whale_df.timestamp)


#only get some columns then we will name them to be easier to reference:
whale_small = whale_df[['timestamp', 'location-long',	'location-lat', 'individual-local-identifier']]
whale_small = whale_small.rename(columns={"timestamp": "time", "location-lat": "lat", "location-long": "long", "individual-local-identifier": "id"})


#get rid of two outliers that are located way inland(no way they can be in a river over there)
whale_small = whale_small[whale_small['long'] < 0]


#Lets just visualize here:


sns.scatterplot(data=whale_small, y="lat", x="long", hue="id", legend=False);
plt.savefig('exports/AllWhales.png', bbox_inches='tight')


#define range of lat/long for temperature data:
min_long = np.min(whale_small['long'])
min_lat = np.min(whale_small['lat'])
max_lat = np.max(whale_small['lat'])
max_long = np.max(whale_small['long'])


#Export the data
extent = pd.DataFrame({'Type': ['Lat', 'long'], 'min': [min_lat, min_long],
                   'max': [max_lat, max_long]})
extent.to_csv('./exports/extent.csv')  


whale_small.head()


whale_small.time


whales_1999 = whale_small[whale_small['time'].dt.year == 1999]
whales_2008 = whale_small[whale_small['time'].dt.year == 2008]

#Turn into geodataframe:
w1999 = gpd.GeoDataFrame(
    whales_1999, geometry=gpd.points_from_xy(whales_1999.long, whales_1999.lat), crs="EPSG:3310"
)

w2008 = gpd.GeoDataFrame(
    whales_2008, geometry=gpd.points_from_xy(whales_2008.long, whales_2008.lat), crs="EPSG:3310"
)





sns.scatterplot(data=w1999, y="lat", x="long", marker='.', label='1999');
sns.scatterplot(data=w2008, y="lat", x="long", marker='.', label='2008');

plt.title('Blue Whale Migration Locations 1999 & 2008')
plt.xlabel('Longitude (Degrees)')
plt.ylabel('Latitude (Degrees)')
world = gpd.read_file(gpd.datasets.get_path("naturalearth_lowres"))

#clip to the min and max values: 
world_clipped = world.cx[minx:maxx, miny:maxy]

# Plot the clipped world basemap
world_clipped.plot(color='lightgrey', edgecolor='black')


world.plot(color='lightgrey', edgecolor='black')



