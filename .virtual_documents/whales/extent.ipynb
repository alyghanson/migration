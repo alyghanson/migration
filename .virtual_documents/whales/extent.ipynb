


import numpy as np
import pandas as pd
import seaborn as sns
import matplotlib.pyplot as plt
import geopandas as gpd
from shapely.geometry import Point


#Read in whales data
whale_df = pd.read_csv("data/whales.csv")
#Turn Date into datetime:
whale_df['timestamp'] = pd.to_datetime(whale_df.timestamp)


#only get some columns then we will name them to be easier to reference:
whale_small = whale_df[['timestamp', 'location-long',	'location-lat', 'individual-local-identifier']]
whale_small = whale_small.rename(columns={"timestamp": "time", "location-lat": "lat", "location-long": "long", "individual-local-identifier": "id"})


#get rid of two outliers that are located way inland(no way they can be in a river over there)
whale_small = whale_small[whale_small['long'] < 0]


#Lets just visualize here:


sns.scatterplot(data=whale_small, y="lat", x="long", hue="id", legend=False);
plt.savefig('exports/AllWhales.png', bbox_inches='tight')


#define range of lat/long for temperature data:
min_long = np.min(whale_small['long'])
min_lat = np.min(whale_small['lat'])
max_lat = np.max(whale_small['lat'])
max_long = np.max(whale_small['long'])


#Export the data
extent = pd.DataFrame({'Type': ['Lat', 'long'], 'min': [min_lat, min_long],
                   'max': [max_lat, max_long]})
extent.to_csv('./exports/extent.csv')  


whale_small.head()


whale_small.time


whales_1999 = whale_small[whale_small['time'].dt.year == 1999]
whales_2008 = whale_small[whale_small['time'].dt.year == 2008]

#Turn into geodataframe:
w1999 = gpd.GeoDataFrame(
    whales_1999, geometry=gpd.points_from_xy(whales_1999.long, whales_1999.lat), crs="EPSG:3310"
)

w2008 = gpd.GeoDataFrame(
    whales_2008, geometry=gpd.points_from_xy(whales_2008.long, whales_2008.lat), crs="EPSG:3310"
)


sns.scatterplot(data=w1999, y="lat", x="long", marker='.', label='1999');
sns.scatterplot(data=w2008, y="lat", x="long", marker='.', label='2008');

plt.title('Blue Whale Migration Locations 1999 & 2008')
plt.xlabel('Longitude (Degrees)')
plt.ylabel('Latitude (Degrees)')


sns.scatterplot(data=w1999, y="lat", x="long", marker='.', label='1999');
plt.title('Blue Whale Migration Locations 1999')
plt.xlabel('Longitude (Degrees)')
plt.ylabel('Latitude (Degrees)')


sns.scatterplot(data=w2008, y="lat", x="long", marker='.', label='2008');
plt.title('Blue Whale Migration Locations 2008')
plt.xlabel('Longitude (Degrees)')
plt.ylabel('Latitude (Degrees)')


#Average distance changes
w2008.nunique()


w1999.nunique()


#Make sure all whales are sorted for next step

w1999 = w1999.sort_values(['id', 'time'])
w2008 = w2008.sort_values(['id', 'time'])

w2008.crs


def calc_dist_from_prev(geodata):
    '''if the id is the same previously, we calculate distance traveled from each point'''
    total_distances = []
    total_distance = 0
    distances_for_gpd = []
    for i in range(len(geodata)):
        row = geodata.iloc[i, :]

        #if first in the table (we cant look at the previous one)
        if i == 0:
            total_distance += 0
            #append 0 for gpd
            distances_for_gpd = np.append(distances_for_gpd, 0)

        #if not first in the table
        else:
            #get the previous row
            prev_row = geodata.iloc[i - 1, :]

            curr_point = Point(row['long'], row['lat'])
            prev_point = Point(prev_row['long'], prev_row['lat'])
            
            #if row id matched previous id:
            if row.id == prev_row.id:
            #calculate distance between points
                distance = curr_point.distance(prev_point)
                total_distance += distance
                #append for gpd
                distances_for_gpd = np.append(distances_for_gpd, distance)
                
            else:
                #append 0 for gpd
                distances_for_gpd = np.append(distances_for_gpd, 0)
                total_distances = np.append(total_distances, total_distance)
                total_distance = 0 
    #for the last point:
    total_distances = np.append(total_distances, total_distance)
    geodata['distances'] = distances_for_gpd
    return total_distances          


distances_1999 = calc_dist_from_prev(w1999)
distances_2008 = calc_dist_from_prev(w2008)
mean_dist_1999 = np.sum(distances_1999)
mean_dist_2008 = np.sum(distances_2008)
change = np.abs(mean_dist_1999-mean_dist_2008)
change


w2008.sort_values(['id', 'time'])


mw2008 = w2008.to_crs('EPSG:5070')
mw2008.bounds









