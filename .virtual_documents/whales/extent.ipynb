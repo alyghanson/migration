


import numpy as np
import pandas as pd
import seaborn as sns
import matplotlib
import matplotlib.pyplot as plt
import geopandas as gpd
from shapely.geometry import Point
import matplotlib.animation as animation


#Read in whales data
whale_df = pd.read_csv("data/whales.csv")
#Turn Date into datetime:
whale_df['timestamp'] = pd.to_datetime(whale_df.timestamp)


#only get some columns then we will name them to be easier to reference:
whale_small = whale_df[['timestamp', 'location-long',	'location-lat', 'individual-local-identifier']]
whale_small = whale_small.rename(columns={"timestamp": "time", "location-lat": "lat", "location-long": "long", "individual-local-identifier": "id"})


#get rid of two outliers that are located way inland(no way they can be in a river over there)
whale_small = whale_small[whale_small['long'] < 0]


#Lets just visualize here:


sns.scatterplot(data=whale_small, y="lat", x="long", hue="id", legend=False);
plt.title('All Whales 1993-2008')
plt.savefig('exports/Whales_all_locations.png', bbox_inches='tight')


#define range of lat/long for temperature data:
min_long = np.min(whale_small['long'])
min_lat = np.min(whale_small['lat'])
max_lat = np.max(whale_small['lat'])
max_long = np.max(whale_small['long'])


#Export the data
extent = pd.DataFrame({'Type': ['Lat', 'long'], 'min': [min_lat, min_long],
                   'max': [max_lat, max_long]})
extent.to_csv('./exports/extent.csv')  


whale_small.head()


whale_small.time


whales_1999 = whale_small[whale_small['time'].dt.year == 1999]
whales_2008 = whale_small[whale_small['time'].dt.year == 2008]

#Turn into geodataframe:
w1999 = gpd.GeoDataFrame(
    whales_1999, geometry=gpd.points_from_xy(whales_1999.long, whales_1999.lat), crs=4326)

w2008 = gpd.GeoDataFrame(
    whales_2008, geometry=gpd.points_from_xy(whales_2008.long, whales_2008.lat), crs=4326)


#check projections: -----> how is this  meter when its in degrees
w1999.crs


#


#look deeper ---> deff in degrees 
w1999.head()


sns.scatterplot(data=w1999, y="lat", x="long", marker='.', label='1999');
sns.scatterplot(data=w2008, y="lat", x="long", marker='.', label='2008');

plt.title('Blue Whale Migration Locations 1999 & 2008')
plt.xlabel('Longitude (Degrees)')
plt.ylabel('Latitude (Degrees)')
plt.savefig('exports/Whales_locations_1999_2008.png', bbox_inches='tight')


sns.scatterplot(data=w1999, y="lat", x="long", marker='.', label='1999');
plt.title('Blue Whale Migration Locations 1999')
plt.xlabel('Longitude (Degrees)')
plt.ylabel('Latitude (Degrees)')
plt.savefig('exports/Whales_locations_1999.png', bbox_inches='tight')


sns.scatterplot(data=w2008, y="lat", x="long", marker='.', label='2008');
plt.title('Blue Whale Migration Locations 2008')
plt.xlabel('Longitude (Degrees)')
plt.ylabel('Latitude (Degrees)')
plt.savefig('exports/Whales_locations_2008.png', bbox_inches='tight')


#project for finding distances
w1999_proj = w1999.to_crs(epsg=3310)
w2008_proj = w2008.to_crs(epsg=3310)


#Make sure all whales are sorted for next step

w1999_proj = w1999_proj.sort_values(['id', 'time'])
w2008_proj = w2008_proj.sort_values(['id', 'time'])

w2008_proj.crs


def calc_dist_from_prev(geodata):
    '''if the id is the same previously, we calculate distance traveled from each point'''
    total_distances = []
    total_distance = 0
    distances_for_gpd = []
    for i in range(len(geodata)):
        row = geodata.iloc[i, :]

        #if first in the table (we cant look at the previous one)
        if i == 0:
            total_distance += 0
            #append 0 for gpd
            distances_for_gpd = np.append(distances_for_gpd, 0)

        #if not first in the table
        else:
            #get the previous row
            prev_row = geodata.iloc[i - 1, :]

            curr_point = Point(row['long'], row['lat'])
            prev_point = Point(prev_row['long'], prev_row['lat'])
            
            #if row id matched previous id:
            if row.id == prev_row.id:
            #calculate distance between points
                distance = row.geometry.distance(prev_row.geometry)
                # distance = curr_point.distance(prev_point)
                total_distance += distance
                #append for gpd
                distances_for_gpd = np.append(distances_for_gpd, distance)
                
            else:
                #append 0 for gpd
                distances_for_gpd = np.append(distances_for_gpd, 0)
                total_distances = np.append(total_distances, total_distance)
                total_distance = 0 
    #for the last point:
    total_distances = np.append(total_distances, total_distance)
    geodata['distances (m)'] = distances_for_gpd
    return total_distances          


distances_1999 = calc_dist_from_prev(w1999_proj)
distances_2008 = calc_dist_from_prev(w2008_proj)
distances_1999_km = calc_dist_from_prev(w1999_proj) / 1000
distances_2008_km = calc_dist_from_prev(w2008_proj) / 1000
mean_dist_1999_km = np.mean(distances_1999) / 1000
mean_dist_2008_km = np.mean(distances_2008)  / 1000
change_km= np.abs(mean_dist_2008_km-mean_dist_1999_km)
change_mi = change_km / 1.609





#Distribution of total distances
sns.histplot(distances_1999_km, label='1999', bins = 5)
plt.grid(which='both', axis='y')
plt.axvline(mean_dist_1999_km, c='red', linestyle='--', label = '1999 Mean')
plt.legend()
plt.title('Blue Whale Migration Distance: 1999');
plt.xlabel('Yearly Distance Traveled (km)')
plt.ylabel('# Blue Whales')
plt.savefig('exports/distance_hist_1999.png', bbox_inches='tight')


sns.histplot(distances_2008_km, label='2008', bins = 5)
plt.axvline(mean_dist_1999_km, c='red', linestyle='--', label = '1999 Mean')
plt.axvline(mean_dist_2008_km, c='green', linestyle='--', label = '2008 Mean')
plt.legend()
plt.title('Blue Whale Migration Distance: 2008');
plt.xlabel('Yearly Distance Traveled (km)')
plt.ylabel('# Blue Whales')
plt.grid(which='both', axis='y')
plt.savefig('exports/distance_hist_2008.png', bbox_inches='tight')


#export for whalse and temp
w1999_proj.to_csv('exports/loc_1999.csv', index=False)
w2008_proj.to_csv('exports/loc_199.csv', index=False)



