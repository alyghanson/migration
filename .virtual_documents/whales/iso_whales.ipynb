import numpy as np
import pandas as pd
import seaborn as sns


whales = pd.read_csv('data/whales.csv')
#select only cols we want
whales = whales[['timestamp', 'location-long', 'location-lat', 'individual-local-identifier']]
#rename them for ease of use
whales = whales.rename(columns={'timestamp': 'time', 'location-long': 'long', 'location-lat': 'lat', 'individual-local-identifier': 'id'})


#inspect
whales.head()


whales.isna().sum()


whales.dtypes


#Turn time into datetime:


whales['time'] = pd.to_datetime(whales['time'])


year = 1998


w_year = whales[whales['time'].dt.year == year]

w_1999 = whales[whales['time'].dt.year == 1999]

w_2008 = whales[whales['time'].dt.year == 2008]


min_year_date = np.min(w_year['time'])
max_year_date = np.max(w_year['time'])


min_1999_date = np.min(w_1999['time'])
max_1999_date = np.max(w_1999['time'])


min_2008_date = np.min(w_2008['time'])
max_2008_date = np.max(w_2008['time'])


mins = [min_year_date, min_1999_date, min_2008_date]
maxes = [max_year_date, max_1999_date, max_2008_date]


#Export the data
times = pd.DataFrame({'year': [year, '1999', '2008'], 'min': mins,
                   'max': maxes, '# data points': [len(w_year), len(w_1999), len(w_2008)]})
times.to_csv('./exports/times.csv')  


times.head()












