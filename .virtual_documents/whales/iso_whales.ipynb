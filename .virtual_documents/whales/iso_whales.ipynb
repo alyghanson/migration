import numpy as np
import pandas as pd
import seaborn as sns


whales = pd.read_csv('data/whales.csv')
#select only cols we want
whales = whales[['timestamp', 'location-long', 'location-lat', 'individual-local-identifier']]
#rename them for ease of use
whales = whales.rename(columns={'timestamp': 'time', 'location-long': 'long', 'location-lat': 'lat', 'individual-local-identifier': 'id'})


#inspect
whales.head()


whales.isna().sum()


whales.dtypes


#Turn time into datetime:


whales['time'] = pd.to_datetime(whales['time'])


whales


w_1996 = whales[whales['time'].dt.year == 1998]

w_2008 = whales[whales['time'].dt.year == 2008]


w_1996.head()



